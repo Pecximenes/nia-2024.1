{
 "cells": [
  {
   "cell_type": "markdown",
   "id": "e4c6de1b-1d79-44b6-bb21-16051d0ccf8e",
   "metadata": {},
   "source": [
    "# Vetores, matrizes e Tensores com TensorFlow"
   ]
  },
  {
   "cell_type": "markdown",
   "id": "a884416e-080c-4d73-984b-631b0604afcf",
   "metadata": {},
   "source": [
    "## 1. Introdução\n"
   ]
  },
  {
   "cell_type": "markdown",
   "id": "00b60d15-62fa-45d9-a508-fcd6f39d8b3b",
   "metadata": {},
   "source": [
    "Veremos que as operações das redes neurais artificiais podem ser convenientemente descritas na forma de vetores e matrizes (arrays) de várias dimensões. Na área de IA, especialmente na comunidade de computação, as matrizes de dimensão maior que 2 são geralmente chamadas tensores. Existe alguma polêmica nisso, já que tensores são objetos de física-matemática que generalizam a ideia de vetores e matrizes, que só fazem sentido a partir de um sistema de coordenadas de referência, e que devem satisfazer certas propriedades de transformação. Eu particularmente acho que deveríamos continuar a chamá-lo arrays multidimensionais. \n",
    "\n",
    "Este caderno é uma adaptação de cadernos do livro \"Dive into Deep Learning\". Modificou-se ligeiramente alguns exemplos e alguns comentários foram incluídos para quem não é tão familiarizado com Python e TensorFlow. "
   ]
  },
  {
   "cell_type": "markdown",
   "id": "01009202-41fd-4d68-9a0a-e3716b50e335",
   "metadata": {},
   "source": [
    "## 2. Arrays de várias dimensões"
   ]
  },
  {
   "cell_type": "markdown",
   "id": "142f8ef2-b85f-4126-a041-6730fa58e06f",
   "metadata": {},
   "source": [
    "### 2.1. Criação e Manipulação"
   ]
  },
  {
   "cell_type": "code",
   "execution_count": 1,
   "id": "a2ef2356-46f0-46d9-b033-7f70d0a0e550",
   "metadata": {},
   "outputs": [],
   "source": [
    "import tensorflow as tf"
   ]
  },
  {
   "cell_type": "markdown",
   "id": "3942675c-814f-4b57-83cf-b3e2ed12589c",
   "metadata": {},
   "source": [
    "Primeiro, vejamos a criação com tf.range(N). Com parâmetros default, a função cria uma sequência de valores de 0 a N-1, em passos de 1. "
   ]
  },
  {
   "cell_type": "code",
   "execution_count": 2,
   "id": "4bc78729-8f5c-4664-af3c-f307032cb78c",
   "metadata": {},
   "outputs": [
    {
     "data": {
      "text/plain": [
       "<tf.Tensor: shape=(12,), dtype=float32, numpy=\n",
       "array([ 0.,  1.,  2.,  3.,  4.,  5.,  6.,  7.,  8.,  9., 10., 11.],\n",
       "      dtype=float32)>"
      ]
     },
     "execution_count": 2,
     "metadata": {},
     "output_type": "execute_result"
    }
   ],
   "source": [
    "x = tf.range(12, dtype=tf.float32)\n",
    "x"
   ]
  },
  {
   "cell_type": "markdown",
   "id": "3e7aaa90-6851-441e-accc-575f290ce211",
   "metadata": {},
   "source": [
    "Observe que, internamente, Python trata o vetor como uma lista de números. Python é todo orientado para tratar com listas, e elas são definidas entre colchetes. \n",
    "\n",
    "Agora vejamos a criação de um array com a função tf.zeros . Ela cria um array de zeros com o tamanho especificado. "
   ]
  },
  {
   "cell_type": "code",
   "execution_count": 3,
   "id": "be158538-c93e-4d9f-97d9-d50559146f13",
   "metadata": {},
   "outputs": [
    {
     "data": {
      "text/plain": [
       "<tf.Tensor: shape=(2, 3), dtype=float32, numpy=\n",
       "array([[0., 0., 0.],\n",
       "       [0., 0., 0.]], dtype=float32)>"
      ]
     },
     "execution_count": 3,
     "metadata": {},
     "output_type": "execute_result"
    }
   ],
   "source": [
    "tf.zeros((2,3))"
   ]
  },
  {
   "cell_type": "markdown",
   "id": "8ae7ad1e-0261-4f09-97ea-4629e428d734",
   "metadata": {},
   "source": [
    "Observe os parênteses duplos. A função aceita o tamanho do array a ser criado como uma \"tupla\". Tupla é uma lista imutável, não pode ser manipulada depois de criada. Observe também que o atributo \"shape\" do objeto agora indica duas dimensões. Trata-se de uma matriz 2x3 (ou, se preferir uma lista de 2 vetores de 3 elementos). Veja também que a matriz (de dimensão 2) é descrita como uma lista de listas.\n",
    "\n",
    "Como você deve ter imaginado, tf.ones cria arrays preenchidos com 1s. "
   ]
  },
  {
   "cell_type": "code",
   "execution_count": 4,
   "id": "62a28030-cd49-4f59-bb3c-a6dd0607ab01",
   "metadata": {},
   "outputs": [
    {
     "data": {
      "text/plain": [
       "<tf.Tensor: shape=(2, 3, 2), dtype=float32, numpy=\n",
       "array([[[1., 1.],\n",
       "        [1., 1.],\n",
       "        [1., 1.]],\n",
       "\n",
       "       [[1., 1.],\n",
       "        [1., 1.],\n",
       "        [1., 1.]]], dtype=float32)>"
      ]
     },
     "execution_count": 4,
     "metadata": {},
     "output_type": "execute_result"
    }
   ],
   "source": [
    "tf.ones((2,3,2))"
   ]
  },
  {
   "cell_type": "markdown",
   "id": "6f6b2eca-71e2-4bee-98ec-457464d08c3b",
   "metadata": {},
   "source": [
    "Arrays de dimensão 3 (ou tensores, lembre-se da polêmica citada acima...) são obviamente listas de listas de... listas. Finalmente, podemos (e frequentemente queremos) gerar arrays com valores aleatórios. Isso pode ser feito, por exemplo, com a função tf.random.normal (neste caso, a distribuição é normal com média 0 e desvio-padrão 1)"
   ]
  },
  {
   "cell_type": "code",
   "execution_count": 5,
   "id": "5d310ab3-7cbf-418e-9add-e915c62a2cd9",
   "metadata": {},
   "outputs": [
    {
     "data": {
      "text/plain": [
       "<tf.Tensor: shape=(2, 2), dtype=float32, numpy=\n",
       "array([[ 0.28606734, -1.1620992 ],\n",
       "       [-0.4818269 , -0.6043463 ]], dtype=float32)>"
      ]
     },
     "execution_count": 5,
     "metadata": {},
     "output_type": "execute_result"
    }
   ],
   "source": [
    "tf.random.normal((2,2))"
   ]
  },
  {
   "cell_type": "markdown",
   "id": "479061cb-81ed-497d-8960-d8e7b20b6528",
   "metadata": {},
   "source": [
    "A função tf.constant pode ser usado para especificar os elementos do array um a um."
   ]
  },
  {
   "cell_type": "code",
   "execution_count": 6,
   "id": "c8976b73-0d2e-4f9a-85e4-767a64480431",
   "metadata": {},
   "outputs": [
    {
     "data": {
      "text/plain": [
       "<tf.Tensor: shape=(3, 2), dtype=int32, numpy=\n",
       "array([[1, 2],\n",
       "       [3, 4],\n",
       "       [5, 6]], dtype=int32)>"
      ]
     },
     "execution_count": 6,
     "metadata": {},
     "output_type": "execute_result"
    }
   ],
   "source": [
    "tf.constant([[1,2],[3,4],[5,6]])"
   ]
  },
  {
   "cell_type": "markdown",
   "id": "6afce32e-2e88-4b0f-945b-4bd196490077",
   "metadata": {},
   "source": [
    "### 2.2. Indexação, fatiamento e reforma"
   ]
  },
  {
   "cell_type": "markdown",
   "id": "2e6ffbe4-80bd-497b-995c-a7537626a202",
   "metadata": {},
   "source": [
    "O sistema de indexação para listas em Python (e consequentemente para arrays) causa alguma estranheza a princípio. O primeiro elemento é o 0. Índices negativos podem ser usados para acessar valores a partir do fim da lista."
   ]
  },
  {
   "cell_type": "code",
   "execution_count": 7,
   "id": "9a363826-7318-4ed2-afaf-2f85200d8044",
   "metadata": {},
   "outputs": [
    {
     "data": {
      "text/plain": [
       "(<tf.Tensor: shape=(), dtype=int32, numpy=1>,\n",
       " <tf.Tensor: shape=(), dtype=int32, numpy=5>,\n",
       " <tf.Tensor: shape=(), dtype=int32, numpy=5>,\n",
       " <tf.Tensor: shape=(), dtype=int32, numpy=4>)"
      ]
     },
     "execution_count": 7,
     "metadata": {},
     "output_type": "execute_result"
    }
   ],
   "source": [
    "x=tf.constant([1,2,3,4,5])\n",
    "x[0],x[4],x[-1],x[-2]"
   ]
  },
  {
   "cell_type": "markdown",
   "id": "6b49627d-5cb8-4cf3-a27d-807dbf84ad82",
   "metadata": {},
   "source": [
    "As faixas a:b como índice selecionam os elementos de a até o **antecessor de b**. Se a for omitido, entende-se \"do começo\", se b for omitido, \"até o final\". "
   ]
  },
  {
   "cell_type": "code",
   "execution_count": 8,
   "id": "1e2d2c53-8b05-435c-b812-3c00d1f90c64",
   "metadata": {},
   "outputs": [
    {
     "data": {
      "text/plain": [
       "(<tf.Tensor: shape=(3,), dtype=int32, numpy=array([1, 2, 3], dtype=int32)>,\n",
       " <tf.Tensor: shape=(2,), dtype=int32, numpy=array([3, 4], dtype=int32)>,\n",
       " <tf.Tensor: shape=(4,), dtype=int32, numpy=array([1, 2, 3, 4], dtype=int32)>,\n",
       " <tf.Tensor: shape=(2,), dtype=int32, numpy=array([1, 2], dtype=int32)>,\n",
       " <tf.Tensor: shape=(3,), dtype=int32, numpy=array([3, 4, 5], dtype=int32)>)"
      ]
     },
     "execution_count": 8,
     "metadata": {},
     "output_type": "execute_result"
    }
   ],
   "source": [
    "x[0:3], x[-3:-1],x[0:-1],x[:2],x[2:]"
   ]
  },
  {
   "cell_type": "code",
   "execution_count": 9,
   "id": "22e5f52a-8efb-4e50-aabf-a73d7aa69a61",
   "metadata": {},
   "outputs": [
    {
     "data": {
      "text/plain": [
       "<tf.Tensor: shape=(3, 3), dtype=int32, numpy=\n",
       "array([[0, 1, 2],\n",
       "       [3, 4, 5],\n",
       "       [6, 7, 8]], dtype=int32)>"
      ]
     },
     "execution_count": 9,
     "metadata": {},
     "output_type": "execute_result"
    }
   ],
   "source": [
    "x=tf.reshape(tf.range(9),(3,3))\n",
    "x"
   ]
  },
  {
   "cell_type": "markdown",
   "id": "fb2ebe80-046f-4edc-80e3-8f4786bcb21f",
   "metadata": {},
   "source": [
    "Acima usamos tf.reshape para transformar o vetor de 9 elementos em uma matriz 3x3. Se omitirmos uma das dimensões, selecionamos todo o elemento. Por exemplo, se o índice tem uma dimensão apenas, entende-se toda a linha:"
   ]
  },
  {
   "cell_type": "code",
   "execution_count": 10,
   "id": "47a1ae32-6175-4662-85e3-e48d4453c950",
   "metadata": {},
   "outputs": [
    {
     "data": {
      "text/plain": [
       "(<tf.Tensor: shape=(3,), dtype=int32, numpy=array([6, 7, 8], dtype=int32)>,\n",
       " <tf.Tensor: shape=(2, 3), dtype=int32, numpy=\n",
       " array([[0, 1, 2],\n",
       "        [3, 4, 5]], dtype=int32)>)"
      ]
     },
     "execution_count": 10,
     "metadata": {},
     "output_type": "execute_result"
    }
   ],
   "source": [
    "x[-1],x[:2]"
   ]
  },
  {
   "cell_type": "markdown",
   "id": "1b3588a9-8142-4421-9b3d-7cc63eaf0d09",
   "metadata": {},
   "source": [
    "### 2.3. Operações elemento a elemento"
   ]
  },
  {
   "cell_type": "markdown",
   "id": "f39e76e6-f457-4674-8605-b3831728298d",
   "metadata": {},
   "source": [
    "As operações como exp(.) , +, *, / e ** são feitas elemento a elemento. "
   ]
  },
  {
   "cell_type": "code",
   "execution_count": 11,
   "id": "6dc3e4e0-3eff-46ce-90f7-6c9282c8c2e5",
   "metadata": {},
   "outputs": [
    {
     "data": {
      "text/plain": [
       "(<tf.Tensor: shape=(2, 2), dtype=int32, numpy=\n",
       " array([[1, 3],\n",
       "        [5, 7]], dtype=int32)>,\n",
       " <tf.Tensor: shape=(2, 2), dtype=int32, numpy=\n",
       " array([[ 0,  2],\n",
       "        [ 6, 12]], dtype=int32)>,\n",
       " <tf.Tensor: shape=(2, 2), dtype=float64, numpy=\n",
       " array([[0.        , 0.5       ],\n",
       "        [0.66666667, 0.75      ]])>,\n",
       " <tf.Tensor: shape=(2, 2), dtype=int32, numpy=\n",
       " array([[ 1,  2],\n",
       "        [ 9, 64]], dtype=int32)>)"
      ]
     },
     "execution_count": 11,
     "metadata": {},
     "output_type": "execute_result"
    }
   ],
   "source": [
    "x=tf.constant([[1,2],[3,4]])\n",
    "y=tf.constant([[0,1],[2,3]])\n",
    "x+y, x*y, y/x, x**y"
   ]
  },
  {
   "cell_type": "markdown",
   "id": "b7377814-2eb1-4515-aca2-2ce90dfaf5ab",
   "metadata": {},
   "source": [
    "Notar que os tipos são implícitos. Veja como o resultado da divisão é um float64 e os demais inteiros. "
   ]
  },
  {
   "cell_type": "markdown",
   "id": "48e029fc-7266-4667-bea8-6c9c38aed41b",
   "metadata": {},
   "source": [
    "Outra operação útil é a de concatenação. O atributo axis indica qual dimensão será concatenada ``axis=0`` \n",
    "significa concatene as linhas, \n",
    "``axis=1`` concatene as colunas, etc. "
   ]
  },
  {
   "cell_type": "code",
   "execution_count": 12,
   "id": "04b493ca-a6cb-49b4-819b-3ce10d3fabcb",
   "metadata": {},
   "outputs": [
    {
     "data": {
      "text/plain": [
       "(<tf.Tensor: shape=(3, 4), dtype=float32, numpy=\n",
       " array([[ 0.,  1.,  2.,  3.],\n",
       "        [ 4.,  5.,  6.,  7.],\n",
       "        [ 8.,  9., 10., 11.]], dtype=float32)>,\n",
       " <tf.Tensor: shape=(3, 4), dtype=float32, numpy=\n",
       " array([[2., 1., 4., 3.],\n",
       "        [1., 2., 3., 4.],\n",
       "        [4., 3., 2., 1.]], dtype=float32)>,\n",
       " <tf.Tensor: shape=(6, 4), dtype=float32, numpy=\n",
       " array([[ 0.,  1.,  2.,  3.],\n",
       "        [ 4.,  5.,  6.,  7.],\n",
       "        [ 8.,  9., 10., 11.],\n",
       "        [ 2.,  1.,  4.,  3.],\n",
       "        [ 1.,  2.,  3.,  4.],\n",
       "        [ 4.,  3.,  2.,  1.]], dtype=float32)>,\n",
       " <tf.Tensor: shape=(3, 8), dtype=float32, numpy=\n",
       " array([[ 0.,  1.,  2.,  3.,  2.,  1.,  4.,  3.],\n",
       "        [ 4.,  5.,  6.,  7.,  1.,  2.,  3.,  4.],\n",
       "        [ 8.,  9., 10., 11.,  4.,  3.,  2.,  1.]], dtype=float32)>)"
      ]
     },
     "execution_count": 12,
     "metadata": {},
     "output_type": "execute_result"
    }
   ],
   "source": [
    "X = tf.reshape(tf.range(12, dtype=tf.float32), (3, 4))\n",
    "Y = tf.constant([[2.0, 1, 4, 3], [1, 2, 3, 4], [4, 3, 2, 1]])\n",
    "X,Y,tf.concat([X, Y], axis=0), tf.concat([X, Y], axis=1)"
   ]
  },
  {
   "cell_type": "markdown",
   "id": "5c03a40b-f20d-4089-a600-f80366b11b51",
   "metadata": {},
   "source": [
    "Uma expressão lógica envolvendo arrays é aplicada elemento a elemento. O resultado é um novo array onde um elemento vale \"true\" quando a condição é satisfeita \n",
    "e \"false\" quando não é. "
   ]
  },
  {
   "cell_type": "code",
   "execution_count": 13,
   "id": "a9ab1904-fa13-4316-bd9c-f57e9086c7fe",
   "metadata": {},
   "outputs": [
    {
     "data": {
      "text/plain": [
       "<tf.Tensor: shape=(3, 4), dtype=bool, numpy=\n",
       "array([[False,  True, False,  True],\n",
       "       [False, False, False, False],\n",
       "       [False, False, False, False]])>"
      ]
     },
     "execution_count": 13,
     "metadata": {},
     "output_type": "execute_result"
    }
   ],
   "source": [
    "X==Y"
   ]
  },
  {
   "cell_type": "markdown",
   "id": "078d3e27-fb76-4a4b-b71f-d18689559d16",
   "metadata": {},
   "source": [
    "# 3. Arquivos"
   ]
  },
  {
   "cell_type": "markdown",
   "id": "da035416-809d-4f1b-88c6-f248e73797d0",
   "metadata": {},
   "source": [
    "Frequentemente, os dados para treinar um modelo estão localizados em longos arquivos CSV (valores separados por vírgula). Nesta seção vamos seguir um exemplo do d2l: criar um pequeno arquivo de exemplo, lê-lo e manipulá-lo. "
   ]
  },
  {
   "cell_type": "code",
   "execution_count": 14,
   "id": "e87ac18c-4639-4d76-8c32-5918aa59dc30",
   "metadata": {},
   "outputs": [],
   "source": [
    "import os\n",
    "\n",
    "os.makedirs(os.path.join('..', 'data'), exist_ok=True)\n",
    "data_file = os.path.join('..', 'data', 'house_tiny.csv')\n",
    "with open(data_file, 'w') as f:\n",
    "    f.write('''NumRooms,RoofType,Price\n",
    "NA,NA,127500\n",
    "2,NA,106000\n",
    "4,Slate,178100\n",
    "NA,NA,140000''')"
   ]
  },
  {
   "cell_type": "markdown",
   "id": "1a6b8caa-1494-4822-99e8-daa136f55670",
   "metadata": {},
   "source": [
    "\"os\" é o módulo que contém as funções de interface com o sistema operacional. A função \"makedirs\" com os parâmetros acima cria um diretório chamado \"data\" acima do diretório atual, a menos que já exista. data_file é o ponteiro para o novo arquivo House_tiny.csv a ser criado. O write escreve o string determinado neste arquivo. As 3 aspas simples indicam que o string se estende por mais de uma linha. "
   ]
  },
  {
   "cell_type": "markdown",
   "id": "db013c04-6b13-466f-a29a-f5b8fbd12056",
   "metadata": {},
   "source": [
    "Agora, importamos o módulo pandas, que têm funções de manipulação de dados, e lemos o arquivo. "
   ]
  },
  {
   "cell_type": "code",
   "execution_count": 15,
   "id": "b87abf9b-dfed-4086-96c1-5ff9c50d7d34",
   "metadata": {},
   "outputs": [
    {
     "name": "stdout",
     "output_type": "stream",
     "text": [
      "   NumRooms RoofType   Price\n",
      "0       NaN      NaN  127500\n",
      "1       2.0      NaN  106000\n",
      "2       4.0    Slate  178100\n",
      "3       NaN      NaN  140000\n"
     ]
    },
    {
     "data": {
      "text/plain": [
       "(   NumRooms RoofType   Price\n",
       " 0       NaN      NaN  127500\n",
       " 1       2.0      NaN  106000\n",
       " 2       4.0    Slate  178100\n",
       " 3       NaN      NaN  140000,\n",
       " None)"
      ]
     },
     "execution_count": 15,
     "metadata": {},
     "output_type": "execute_result"
    }
   ],
   "source": [
    "import pandas as pd\n",
    "\n",
    "data = pd.read_csv(data_file)\n",
    "data,print(data)\n"
   ]
  },
  {
   "cell_type": "markdown",
   "id": "7aed6217-a21d-4a7a-9712-6bbab03f2b21",
   "metadata": {},
   "source": [
    "A função pd.read_csv devolve um \"Dataframe\", uma estrutura bidimensional com diferentes tipos de dados (note como a tabela tem textos e números). O \"NA\" que incluímos na Tabela é uma indicação de um dado faltante, algo comum em grandes bases de dados do mundo real. Esta Tabela (se tivesse milhares de registros e não 4...) poderia ser uma base de dados de preços de casas a partir do número de quartos e tipo de telhado, para um problema de regressão (estimar o preço de uma nova casa que não está na base). Neste caso, as entradas seriam os valores das duas primeiras colunas, e o alvo (saída) a última. Vamos separar os dados em entradas e saídas. "
   ]
  },
  {
   "cell_type": "code",
   "execution_count": 16,
   "id": "82c1d62c-d3ad-4c78-9f74-978e76554e9c",
   "metadata": {},
   "outputs": [
    {
     "name": "stdout",
     "output_type": "stream",
     "text": [
      "   NumRooms RoofType\n",
      "0       NaN      NaN\n",
      "1       2.0      NaN\n",
      "2       4.0    Slate\n",
      "3       NaN      NaN\n",
      "0    127500\n",
      "1    106000\n",
      "2    178100\n",
      "3    140000\n",
      "Name: Price, dtype: int64\n"
     ]
    }
   ],
   "source": [
    "inputs, targets = data.iloc[:, 0:2], data.iloc[:, 2]\n",
    "print(inputs)\n",
    "print(targets)"
   ]
  },
  {
   "cell_type": "markdown",
   "id": "64be10fe-4036-4217-b62a-dca868d1769b",
   "metadata": {},
   "source": [
    "A propriedade iloc é usada para acessar pontos específicos do dataframe, com as mesmas regras de indexação que vimos anteriormente. "
   ]
  },
  {
   "cell_type": "markdown",
   "id": "b6720bfb-dd5a-44f7-aa26-635870c99735",
   "metadata": {},
   "source": [
    "Agora vamos tratar da questão do NA. Se o dado faltante é uma categoria, geralmente a solução é criar uma nova categoria \"NA\". Como todos os tipos de telhados que existem são \"Slate\" (Ardósia), vão passar a existir duas categorias de telhado: Slate ou NA. "
   ]
  },
  {
   "cell_type": "code",
   "execution_count": 17,
   "id": "baff5dfe-bbf1-457e-b694-cdee510a5955",
   "metadata": {},
   "outputs": [
    {
     "name": "stdout",
     "output_type": "stream",
     "text": [
      "   NumRooms  RoofType_Slate  RoofType_nan\n",
      "0       NaN           False          True\n",
      "1       2.0           False          True\n",
      "2       4.0            True         False\n",
      "3       NaN           False          True\n"
     ]
    }
   ],
   "source": [
    "inputs = pd.get_dummies(inputs, dummy_na=True)\n",
    "print(inputs)"
   ]
  },
  {
   "cell_type": "markdown",
   "id": "11860dc8-1b3b-461d-8f14-74c9c7ad1d26",
   "metadata": {},
   "source": [
    "A função ``pd.get_dummies`` transforma as colunas de categoria em expressões lógicas (\"True\" se a categoria do nome da coluna está presente, \"False\" se não está). Com a opção ``dummy_na=True``, é criada uma coluna para os casos em que a informação de categoria é inexistente. "
   ]
  },
  {
   "cell_type": "markdown",
   "id": "7d76b9ad-f6f3-4f35-806c-d21e2a6c9627",
   "metadata": {},
   "source": [
    "Para o caso de valores numéricos faltantes, uma solução comum é atribuir a média dos valores existentes. "
   ]
  },
  {
   "cell_type": "code",
   "execution_count": 18,
   "id": "1ccf10c2-4df3-481c-b3d8-78bcd7d15cfe",
   "metadata": {},
   "outputs": [
    {
     "name": "stdout",
     "output_type": "stream",
     "text": [
      "   NumRooms  RoofType_Slate  RoofType_nan\n",
      "0       3.0           False          True\n",
      "1       2.0           False          True\n",
      "2       4.0            True         False\n",
      "3       3.0           False          True\n"
     ]
    }
   ],
   "source": [
    "inputs = inputs.fillna(inputs.mean())\n",
    "print(inputs)"
   ]
  },
  {
   "cell_type": "markdown",
   "id": "c27b2470-9f4a-4185-a4fc-a1100056eb66",
   "metadata": {},
   "source": [
    "O método ``fillna``aplicado a qualquer Dataframe substitui os valores NA com os valores dados. No caso, a média da coluna, acessada pelo método ``mean``"
   ]
  },
  {
   "cell_type": "markdown",
   "id": "10589fb7-0d6d-4585-a9dc-5d5b5c4b3306",
   "metadata": {},
   "source": [
    "Os dados estão separados em uma matriz de entrada e um vetor correspondende de saída, as categorias estão expressas como variáveis lógicas, e não há valores faltantes. Mas inputs e targets ainda são \"dataframes\". Para transformá-las em objeto tensor, usamos a função ``tf.constant`` e o método ``to_numpy`` aplicado ao dataframe. "
   ]
  },
  {
   "cell_type": "code",
   "execution_count": 19,
   "id": "94adb5b9-edf8-4ec7-af90-41d5c2ac6dd8",
   "metadata": {},
   "outputs": [
    {
     "name": "stdout",
     "output_type": "stream",
     "text": [
      "tf.Tensor(\n",
      "[[3. 0. 1.]\n",
      " [2. 0. 1.]\n",
      " [4. 1. 0.]\n",
      " [3. 0. 1.]], shape=(4, 3), dtype=float64)\n",
      "tf.Tensor([127500. 106000. 178100. 140000.], shape=(4,), dtype=float64)\n"
     ]
    },
    {
     "data": {
      "text/plain": [
       "(None, None)"
      ]
     },
     "execution_count": 19,
     "metadata": {},
     "output_type": "execute_result"
    }
   ],
   "source": [
    "X = tf.constant(inputs.to_numpy(dtype=float))\n",
    "y = tf.constant(targets.to_numpy(dtype=float))\n",
    "print(X), print(y)"
   ]
  }
 ],
 "metadata": {
  "kernelspec": {
   "display_name": "Python 3 (ipykernel)",
   "language": "python",
   "name": "python3"
  },
  "language_info": {
   "codemirror_mode": {
    "name": "ipython",
    "version": 3
   },
   "file_extension": ".py",
   "mimetype": "text/x-python",
   "name": "python",
   "nbconvert_exporter": "python",
   "pygments_lexer": "ipython3",
   "version": "3.9.19"
  }
 },
 "nbformat": 4,
 "nbformat_minor": 5
}
